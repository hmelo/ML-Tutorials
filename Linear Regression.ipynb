{
 "cells": [
  {
   "cell_type": "markdown",
   "metadata": {},
   "source": [
    "# Linear Regression\n",
    "## Mini-Tutorial with Scikit Learn\n",
    "\n",
    "## 1. Background\n",
    "\n",
    "Linear regression is widely used in order to make predictions about continuous variables. \n",
    "An example of a regression problem would be the prediction of the length of a salmon as a function of its age and weight.\n",
    "\n",
    "In general, in Machine Learning we think of datasets as being composed of data (or features/predictors) (X), and a target (Y).\n",
    "\n",
    "Our goal is to \"learn\" a function that predicts y from the observed data x.\n",
    "\n",
    "In the case of linear regression, the function is a simple linear function of the predictors:\n",
    "\n",
    "\\begin{equation*}\n",
    "Y=f(x)=\\beta X + \\epsilon\n",
    "\\end{equation*}\n",
    "\n",
    "The features $X$ describe $Y$ through function $f(x)$, where\n",
    "$\\beta $ are the coefficients (or weights) and $\\epsilon$ is the error term.\n",
    "\n",
    "Our job is simply to find the best estimates for $\\beta$.\n",
    "[Ordinary Least Squares](https://en.wikipedia.org/wiki/Ordinary_least_squares) is a common method to find the $\\beta $ that best minimize the residual sum of squares between the observed responses in the dataset.\n",
    "\n",
    "A more detailed discussion of linear regression can be found [here](https://en.wikipedia.org/wiki/Linear_regression).\n"
   ]
  },
  {
   "cell_type": "markdown",
   "metadata": {},
   "source": [
    "## 2. Simple Example: Linear Regression with a single feature"
   ]
  },
  {
   "cell_type": "markdown",
   "metadata": {},
   "source": [
    "This example uses linear regression to fit a model for the `diabetes` dataset in sklearn. \n",
    "In simple terms, it attempts to fit a straight line that will best minimize the residual sum of squares\n",
    "between the observed responses in the dataset. \n",
    "\n",
    "We first use the example of a single predictor (feature), and then extend to a model with multiple predictors (features).\n",
    "\n",
    "The coefficients, residual sum of squares, and the variance scores are also\n",
    "calculated."
   ]
  },
  {
   "cell_type": "markdown",
   "metadata": {},
   "source": [
    "First let's explore the diabetes dataset.\n",
    "\n"
   ]
  },
  {
   "cell_type": "code",
   "execution_count": 110,
   "metadata": {
    "collapsed": false
   },
   "outputs": [
    {
     "name": "stdout",
     "output_type": "stream",
     "text": [
      "First 10 examples: \n",
      "\n",
      "Data:  [[-0.002 -0.045 -0.051 -0.026 -0.008 -0.019 0.074 -0.039 -0.068 -0.092]\n",
      " [0.085 0.051 0.044 -0.006 -0.046 -0.034 -0.032 -0.003 0.003 -0.026]\n",
      " [-0.089 -0.045 -0.012 -0.037 0.012 0.025 -0.036 0.034 0.023 -0.009]\n",
      " [0.005 -0.045 -0.036 0.022 0.004 0.016 0.008 -0.003 -0.032 -0.047]\n",
      " [-0.093 -0.045 -0.041 -0.019 -0.069 -0.079 0.041 -0.076 -0.041 -0.096]\n",
      " [-0.045 0.051 -0.047 -0.016 -0.040 -0.025 0.001 -0.039 -0.063 -0.038]\n",
      " [0.064 0.051 -0.002 0.067 0.091 0.109 0.023 0.018 -0.036 0.003]\n",
      " [0.042 0.051 0.062 -0.040 -0.014 0.006 -0.029 -0.003 -0.015 0.011]\n",
      " [-0.071 -0.045 0.039 -0.033 -0.013 -0.035 -0.025 -0.003 0.068 -0.014]]\n",
      "Target:  [75.000 141.000 206.000 135.000 97.000 138.000 63.000 110.000 310.000] \n",
      "\n",
      "Data shape =  (442, 10)\n",
      "Target shape =  (442,)\n"
     ]
    }
   ],
   "source": [
    "import matplotlib.pyplot as plt\n",
    "import numpy as np\n",
    "from sklearn import datasets, linear_model\n",
    "\n",
    "# Load the diabetes dataset\n",
    "diabetes = datasets.load_diabetes()\n",
    "np.set_printoptions(formatter={'float': lambda x: \"{0:0.3f}\".format(x)}) #format to print only to 3 dec places\n",
    "\n",
    "print(\"First 10 examples: \\n\")\n",
    "print(\"Data: \", diabetes.data[1:10])\n",
    "print(\"Target: \", diabetes.target[1:10], \"\\n\")\n",
    "\n",
    "print (\"Data shape = \",diabetes.data.shape)\n",
    "print (\"Target shape = \",diabetes.target.shape)"
   ]
  },
  {
   "cell_type": "markdown",
   "metadata": {},
   "source": [
    "The data contains 442 samples with 10 features."
   ]
  },
  {
   "cell_type": "markdown",
   "metadata": {},
   "source": [
    "## Feature Selection"
   ]
  },
  {
   "cell_type": "code",
   "execution_count": 97,
   "metadata": {
    "collapsed": true
   },
   "outputs": [],
   "source": [
    "# Let's first use only one feature\n",
    "diabetes_X = diabetes.data[:, np.newaxis, 2] # choose third feature only\n",
    "\n",
    "# Split the data into training/testing sets\n",
    "diabetes_X_train = diabetes_X[:-20] # everything except last 20 items\n",
    "diabetes_X_test = diabetes_X[-20:]  # only last 20 items\n",
    "\n",
    "# Split the targets into training/testing sets\n",
    "diabetes_y_train = diabetes.target[:-20] # everything except last 20 items\n",
    "diabetes_y_test = diabetes.target[-20:]  # only last 20 items"
   ]
  },
  {
   "cell_type": "markdown",
   "metadata": {},
   "source": [
    "## Create and train the model"
   ]
  },
  {
   "cell_type": "code",
   "execution_count": 98,
   "metadata": {
    "collapsed": false
   },
   "outputs": [
    {
     "data": {
      "text/plain": [
       "LinearRegression(copy_X=True, fit_intercept=True, n_jobs=1, normalize=False)"
      ]
     },
     "execution_count": 98,
     "metadata": {},
     "output_type": "execute_result"
    }
   ],
   "source": [
    "# Create linear regression object\n",
    "regr = linear_model.LinearRegression()\n",
    "\n",
    "# Train the model using the training sets\n",
    "regr.fit(diabetes_X_train, diabetes_y_train)"
   ]
  },
  {
   "cell_type": "code",
   "execution_count": 99,
   "metadata": {
    "collapsed": false,
    "scrolled": true
   },
   "outputs": [
    {
     "name": "stdout",
     "output_type": "stream",
     "text": [
      "Coefficients: \n",
      " [938.238]\n",
      "Mean squared error: 3955.02\n",
      "Variance score: 0.34\n"
     ]
    }
   ],
   "source": [
    "# The coefficients\n",
    "print('Coefficients: \\n', regr.coef_)\n",
    "# The mean squared error\n",
    "print(\"Mean squared error: %.2f\"\n",
    "      % np.mean((regr.predict(diabetes_X_train) - diabetes_y_train) ** 2))\n",
    "# Explained variance score: 1 is perfect prediction\n",
    "print('Variance score: %.2f' % regr.score(diabetes_X_train, diabetes_y_train))"
   ]
  },
  {
   "cell_type": "markdown",
   "metadata": {},
   "source": [
    "## Test the model on the data it hasn't seen"
   ]
  },
  {
   "cell_type": "code",
   "execution_count": 100,
   "metadata": {
    "collapsed": false,
    "scrolled": true
   },
   "outputs": [
    {
     "name": "stdout",
     "output_type": "stream",
     "text": [
      "Coefficients: \n",
      " [938.238]\n",
      "Mean squared error: 2548.07\n",
      "Variance score: 0.47\n"
     ]
    }
   ],
   "source": [
    "# The coefficients\n",
    "print('Coefficients: \\n', regr.coef_)\n",
    "# The mean squared error\n",
    "print(\"Mean squared error: %.2f\"\n",
    "      % np.mean((regr.predict(diabetes_X_test) - diabetes_y_test) ** 2))\n",
    "# Explained variance score: 1 is perfect prediction\n",
    "print('Variance score: %.2f' % regr.score(diabetes_X_test, diabetes_y_test))"
   ]
  },
  {
   "cell_type": "markdown",
   "metadata": {},
   "source": [
    "## Visualize Results of Model"
   ]
  },
  {
   "cell_type": "code",
   "execution_count": 108,
   "metadata": {
    "collapsed": false
   },
   "outputs": [
    {
     "name": "stdout",
     "output_type": "stream",
     "text": [
      "Predicted values: \n",
      " [225.973 115.748 163.276 114.736 120.804 158.220 236.086 121.815 99.568\n",
      " 123.838 204.737 96.534 154.175 130.916 83.388 171.366 137.995 137.995\n",
      " 189.568 84.399]\n",
      "\n",
      "Ground truth: \n",
      " [233.000 91.000 111.000 152.000 120.000 67.000 310.000 94.000 183.000\n",
      " 66.000 173.000 72.000 49.000 64.000 48.000 178.000 104.000 132.000 220.000\n",
      " 57.000]\n"
     ]
    },
    {
     "data": {
      "image/png": "[encoded data removed]",
      "text/plain": [
       "<matplotlib.figure.Figure at 0x111f78128>"
      ]
     },
     "metadata": {},
     "output_type": "display_data"
    }
   ],
   "source": [
    "# make new prediction from model\n",
    "\n",
    "print(\"Predicted values: \\n\",regr.predict(diabetes_X_test))\n",
    "print(\"\\nGround truth: \\n\",diabetes_y_test)\n",
    "# Plot outputs\n",
    "plt.scatter(diabetes_X_train, diabetes_y_train,  color='gray') # plot train data\n",
    "plt.scatter(diabetes_X_test, diabetes_y_test,  color='red') # plot test data\n",
    "#plt.plot(diabetes_X_test, regr.predict(diabetes_X_test), color='blue',\n",
    "#         linewidth=1) # plot fit line\n",
    "plt.plot(diabetes_X_train, regr.coef_ * diabetes_X_train + regr.intercept_, color='blue', linewidth=1)\n",
    "\n",
    "\n",
    "plt.scatter(diabetes_X_test, regr.predict(diabetes_X_test),  color='black') # plot test data\n",
    "\n",
    "plt.xticks(())\n",
    "plt.yticks(())\n",
    "plt.show()"
   ]
  },
  {
   "cell_type": "markdown",
   "metadata": {},
   "source": [
    "Gray dots =  training data\n",
    "\n",
    "Red dots = testing data\n",
    "\n",
    "Black dots = model prediction on test data\n",
    "\n",
    "Blue line = prediction model (linear fit)"
   ]
  },
  {
   "cell_type": "markdown",
   "metadata": {},
   "source": [
    "## 3. Model using multiple features (predictors)."
   ]
  },
  {
   "cell_type": "code",
   "execution_count": 87,
   "metadata": {
    "collapsed": true
   },
   "outputs": [],
   "source": [
    "# Now let's use all features available\n",
    "diabetes_X = diabetes.data[:, np.newaxis, :] # take all features \n",
    "\n",
    "# Split the data into training/testing sets\n",
    "diabetes_X_train = diabetes.data[:-20] # everything except last 20 items\n",
    "diabetes_X_test = diabetes.data[-20:]  # only last 20 items\n",
    "\n",
    "# Split the targets into training/testing sets\n",
    "diabetes_y_train = diabetes.target[:-20] # everything except last 20 items\n",
    "diabetes_y_test = diabetes.target[-20:]  # only last 20 items"
   ]
  },
  {
   "cell_type": "code",
   "execution_count": 88,
   "metadata": {
    "collapsed": false,
    "scrolled": true
   },
   "outputs": [
    {
     "data": {
      "text/plain": [
       "LinearRegression(copy_X=True, fit_intercept=True, n_jobs=1, normalize=False)"
      ]
     },
     "execution_count": 88,
     "metadata": {},
     "output_type": "execute_result"
    }
   ],
   "source": [
    "# Create linear regression object\n",
    "full_regr = linear_model.LinearRegression()\n",
    "\n",
    "# Train the model using the training sets\n",
    "full_regr.fit(diabetes_X_train, diabetes_y_train)"
   ]
  },
  {
   "cell_type": "markdown",
   "metadata": {},
   "source": [
    "## Create and train the multiple features model"
   ]
  },
  {
   "cell_type": "code",
   "execution_count": 80,
   "metadata": {
    "collapsed": false
   },
   "outputs": [
    {
     "name": "stdout",
     "output_type": "stream",
     "text": [
      "Coefficients: \n",
      " [0.303 -237.639 510.531 327.737 -814.132 492.815 102.848 184.606 743.520\n",
      " 76.095]\n",
      "Mean squared error: 2901.56\n",
      "Variance score: 0.51\n"
     ]
    }
   ],
   "source": [
    "# The coefficients\n",
    "print('Coefficients: \\n', full_regr.coef_)\n",
    "# The mean squared error\n",
    "print(\"Mean squared error: %.2f\"\n",
    "      % np.mean((full_regr.predict(diabetes_X_train) - diabetes_y_train) ** 2))\n",
    "# Explained variance score: 1 is perfect prediction\n",
    "print('Variance score: %.2f' % full_regr.score(diabetes_X_train, diabetes_y_train))"
   ]
  },
  {
   "cell_type": "code",
   "execution_count": 81,
   "metadata": {
    "collapsed": false
   },
   "outputs": [
    {
     "name": "stdout",
     "output_type": "stream",
     "text": [
      "Coefficients: \n",
      " [0.303 -237.639 510.531 327.737 -814.132 492.815 102.848 184.606 743.520\n",
      " 76.095]\n",
      "Mean squared error: 2004.57\n",
      "Variance score: 0.59\n"
     ]
    }
   ],
   "source": [
    "# The coefficients\n",
    "print('Coefficients: \\n', full_regr.coef_)\n",
    "# The mean squared error\n",
    "print(\"Mean squared error: %.2f\"\n",
    "      % np.mean((full_regr.predict(diabetes_X_test) - diabetes_y_test) ** 2))\n",
    "# Explained variance score: 1 is perfect prediction\n",
    "print('Variance score: %.2f' % full_regr.score(diabetes_X_test, diabetes_y_test))"
   ]
  },
  {
   "cell_type": "markdown",
   "metadata": {},
   "source": [
    "As expected the error decreases as more predictors are taken into account, the variance score increases as the model captures more of the variance."
   ]
  },
  {
   "cell_type": "code",
   "execution_count": null,
   "metadata": {
    "collapsed": false
   },
   "outputs": [],
   "source": []
  }
 ],
 "metadata": {
  "kernelspec": {
   "display_name": "Python 3",
   "language": "python",
   "name": "python3"
  },
  "language_info": {
   "codemirror_mode": {
    "name": "ipython",
    "version": 3
   },
   "file_extension": ".py",
   "mimetype": "text/x-python",
   "name": "python",
   "nbconvert_exporter": "python",
   "pygments_lexer": "ipython3",
   "version": "3.6.0"
  }
 },
 "nbformat": 4,
 "nbformat_minor": 2
}
