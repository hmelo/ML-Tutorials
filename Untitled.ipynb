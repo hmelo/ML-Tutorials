{
 "cells": [
  {
   "cell_type": "code",
   "execution_count": 70,
   "metadata": {
    "collapsed": false
   },
   "outputs": [
    {
     "name": "stdout",
     "output_type": "stream",
     "text": [
      "0.5408520829727552\n",
      "0.9182958340544896\n"
     ]
    },
    {
     "data": {
      "text/plain": [
       "0.5408520829727552"
      ]
     },
     "execution_count": 70,
     "metadata": {},
     "output_type": "execute_result"
    }
   ],
   "source": [
    "import math \n",
    "def H(n,p):\n",
    "    pprob=p/(n+p)\n",
    "    nprob=n/(n+p)\n",
    "    if pprob<=0 or nprob<=0:\n",
    "        H=0\n",
    "    else:\n",
    "        H=(-pprob*math.log2(pprob))-(nprob*math.log2(nprob))\n",
    "    return H\n",
    "\n",
    "I=1-((2/12)*H(0,1)+(4/12)*H(1,0)+(6/12)*H(2/6,4/6))\n",
    "print(I)\n",
    "#print(math.log2(0))\n",
    "print(H(1/3,2/3))\n",
    "1-.5*H(1/3,2/3)"
   ]
  },
  {
   "cell_type": "markdown",
   "metadata": {},
   "source": [
    "# x=1\n",
    "y=-x\n",
    "print(y)"
   ]
  },
  {
   "cell_type": "code",
   "execution_count": null,
   "metadata": {
    "collapsed": true
   },
   "outputs": [],
   "source": []
  }
 ],
 "metadata": {
  "kernelspec": {
   "display_name": "Python 3",
   "language": "python",
   "name": "python3"
  },
  "language_info": {
   "codemirror_mode": {
    "name": "ipython",
    "version": 3
   },
   "file_extension": ".py",
   "mimetype": "text/x-python",
   "name": "python",
   "nbconvert_exporter": "python",
   "pygments_lexer": "ipython3",
   "version": "3.6.0"
  }
 },
 "nbformat": 4,
 "nbformat_minor": 2
}
